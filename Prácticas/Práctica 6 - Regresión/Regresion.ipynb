{
  "nbformat": 4,
  "nbformat_minor": 0,
  "metadata": {
    "kernelspec": {
      "display_name": "Python 3",
      "language": "python",
      "name": "python3"
    },
    "language_info": {
      "codemirror_mode": {
        "name": "ipython",
        "version": 3
      },
      "file_extension": ".py",
      "mimetype": "text/x-python",
      "name": "python",
      "nbconvert_exporter": "python",
      "pygments_lexer": "ipython3",
      "version": "3.8.10"
    },
    "colab": {
      "name": "Regresion.ipynb",
      "provenance": [],
      "collapsed_sections": []
    }
  },
  "cells": [
    {
      "cell_type": "markdown",
      "metadata": {
        "id": "Ov-DenI8GfZj"
      },
      "source": [
        "# Práctica 6\n"
      ]
    },
    {
      "cell_type": "markdown",
      "metadata": {
        "id": "QpqWmDw1MRWT"
      },
      "source": [
        "## Ejercicio 1: Regresión."
      ]
    },
    {
      "cell_type": "markdown",
      "metadata": {
        "id": "FowyzV1wGfZn"
      },
      "source": [
        "1. Dados los datos siguientes, elegir las caracteristicas necesarias para ajustar una curva de regreción.\n",
        "|  x  |  y  |\n",
        "|-----|-----|\n",
        "| 0.1 |-0.01|\n",
        "|1.05 |0.978|\n",
        "|2.01 | 1.4 |\n",
        "|3.003|1.74 |\n",
        "|4.11 | 2.1 |\n",
        "|4.99 | 2.3 |\n",
        "|5.89 | 2.5 |\n",
        "\n",
        "    a) Gráficar los datos. ¿Qué tipo de curva $y=\\theta f(x)$ tiene un comportamiento semejante a la gráfica \n",
        "    obtenida? (e.g. exponencial, coseno, logaritmo, etc.)\n",
        "    \n",
        "    b) Generar nuevas caracteristicas $y=\\theta f(x)$ usando la $f(x)$ identificada anteriormente. Calcula los \n",
        "    valores correspondientes para las nuevas $x'$\n",
        "    \n",
        "    c) Gráficar los datos $(x',y)$ con las caracteristicas $x'$ elegidas.\n",
        "    \n",
        "    d) Ajustar el plano/recta en el espacio trandormado $y$ vs $x'$ utilizando la ecuación normal \n",
        "    $\\theta=(X^T X)^{-1}X^T Y$.\n",
        "    \n",
        "    e) Calcular la expresión correspondiente en el espacio original (sustituir las $x'$ por la función que \n",
        "    representan $f(x)$).\n",
        "    \n",
        "    f) Gráficar la función ajustada en el espació original $y$ vs $x$."
      ]
    },
    {
      "cell_type": "code",
      "metadata": {
        "id": "2vw9ZdX8GfZo"
      },
      "source": [
        "#Bibliotecas que les pueden ser útiles para el desarrollo de la práctica.\n",
        "\n",
        "import importlib\n",
        "%matplotlib inline\n",
        "import matplotlib.pyplot as plt\n",
        "\n",
        "import numpy as np\n",
        "from ipywidgets import interact, interactive, fixed, interact_manual\n",
        "from IPython.core.pylabtools import figsize\n",
        "import ipywidgets as widgets\n",
        "colores = [\"#BD3495\", \"#7EBD34\",\"#BD3450\"]\n",
        "from IPython.display import display\n",
        "from mpl_toolkits.mplot3d import Axes3D\n",
        "from matplotlib.patches import Ellipse\n",
        "import numpy.random as rnd\n",
        "from sympy import var\n",
        "from sympy.plotting import plot_implicit\n",
        "from IPython import display"
      ],
      "execution_count": 1,
      "outputs": []
    },
    {
      "cell_type": "markdown",
      "metadata": {
        "id": "5HBQsQ9ZGk_L"
      },
      "source": [
        "### a) Gráficar los datos. ¿Qué tipo de curva $y=\\theta f(x)$ tiene un comportamiento semejante a la gráfica obtenida? (e.g. exponencial, coseno, logaritmo, etc.)"
      ]
    },
    {
      "cell_type": "code",
      "metadata": {
        "colab": {
          "base_uri": "https://localhost:8080/",
          "height": 279
        },
        "id": "o6Zj-6QkGi5o",
        "outputId": "e8c411c8-ff0c-4c6b-b7c3-1891070d8d6c"
      },
      "source": [
        "X = np.array([[0.1],   [1.05],  [2.01], [3.003], [4.11], [4.99], [5.89]])\n",
        "Y = np.array([[-0.01], [0.978], [1.4],  [1.74],  [2.1],  [2.3],  [2.5]])\n",
        "plt.scatter(X, Y, c=colores[0])\n",
        "plt.xlabel('X')\n",
        "plt.ylabel('Y')\n",
        "plt.show()"
      ],
      "execution_count": 2,
      "outputs": [
        {
          "output_type": "display_data",
          "data": {
            "image/png": "[encoded data removed]",
            "text/plain": [
              "<Figure size 432x288 with 1 Axes>"
            ]
          },
          "metadata": {
            "needs_background": "light"
          }
        }
      ]
    },
    {
      "cell_type": "markdown",
      "metadata": {
        "id": "UShJdRgjG6ys"
      },
      "source": [
        "La gráfica anterior se parece a la función $$f(x)=\\sqrt x$$"
      ]
    },
    {
      "cell_type": "code",
      "metadata": {
        "colab": {
          "base_uri": "https://localhost:8080/",
          "height": 283
        },
        "id": "rsRsoU09Jthg",
        "outputId": "b01e5cd2-d33e-4804-ca5d-f7ee19ec01fd"
      },
      "source": [
        "plt.figure(1)\n",
        "plt.title('Función $\\sqrt{x}$')\n",
        "plt.plot(np.arange(0, 100, 0.1), np.sqrt(np.arange(0, 100, 0.1)), c=colores[1])\n",
        "plt.show()"
      ],
      "execution_count": 3,
      "outputs": [
        {
          "output_type": "display_data",
          "data": {
            "image/png": "[encoded data removed]",
            "text/plain": [
              "<Figure size 432x288 with 1 Axes>"
            ]
          },
          "metadata": {
            "needs_background": "light"
          }
        }
      ]
    },
    {
      "cell_type": "markdown",
      "metadata": {
        "id": "cTtpPX7YKfRD"
      },
      "source": [
        "### b) Generar nuevas caracteristicas $y=\\theta f(x)$ usando la $f(x)$ identificada anteriormente. Calcula los valores correspondientes para las nuevas $x'$."
      ]
    },
    {
      "cell_type": "markdown",
      "metadata": {
        "id": "yRrs4qn6YOFo"
      },
      "source": [
        "Básicamente aplicaremos la función $f(x)$ identificada anteriormente a las características ya dadas; en código:\n"
      ]
    },
    {
      "cell_type": "code",
      "metadata": {
        "id": "lUbELVdUKleE"
      },
      "source": [
        "X_prima = np.sqrt(X) # Nuevas características usando la f(x) identificada anteriormente."
      ],
      "execution_count": 4,
      "outputs": []
    },
    {
      "cell_type": "markdown",
      "metadata": {
        "id": "Rqngw37ZKwaR"
      },
      "source": [
        "Veamos las nuevas características:"
      ]
    },
    {
      "cell_type": "code",
      "metadata": {
        "colab": {
          "base_uri": "https://localhost:8080/"
        },
        "id": "VY1yAKHwKz2p",
        "outputId": "3ceed77a-723d-466a-fe50-1c8356f4ba5b"
      },
      "source": [
        "print(X_prima)"
      ],
      "execution_count": 5,
      "outputs": [
        {
          "output_type": "stream",
          "name": "stdout",
          "text": [
            "[[0.31622777]\n",
            " [1.02469508]\n",
            " [1.41774469]\n",
            " [1.73291662]\n",
            " [2.02731349]\n",
            " [2.23383079]\n",
            " [2.42693222]]\n"
          ]
        }
      ]
    },
    {
      "cell_type": "markdown",
      "metadata": {
        "id": "7cX9HE3ILN1f"
      },
      "source": [
        "### c) Gráficar los datos $(x',y)$ con las caracteristicas $x'$ elegidas."
      ]
    },
    {
      "cell_type": "code",
      "metadata": {
        "colab": {
          "base_uri": "https://localhost:8080/",
          "height": 279
        },
        "id": "wZ_-iYblLRiH",
        "outputId": "8f728cc6-cbd7-4a9a-a28d-65709c47a0d6"
      },
      "source": [
        "plt.scatter(X_prima, Y, c=colores[2])\n",
        "plt.xlabel('X prima')\n",
        "plt.ylabel('Y')\n",
        "plt.show()"
      ],
      "execution_count": 6,
      "outputs": [
        {
          "output_type": "display_data",
          "data": {
            "image/png": "[encoded data removed]",
            "text/plain": [
              "<Figure size 432x288 with 1 Axes>"
            ]
          },
          "metadata": {
            "needs_background": "light"
          }
        }
      ]
    },
    {
      "cell_type": "markdown",
      "metadata": {
        "id": "erZhGCCgLoin"
      },
      "source": [
        "### d) Ajustar el plano/recta en el espacio trandormado $y$ vs $x'$ utilizando la ecuación normal $$\\theta=(X^T X)^{-1}X^T Y.$$"
      ]
    },
    {
      "cell_type": "code",
      "metadata": {
        "colab": {
          "base_uri": "https://localhost:8080/"
        },
        "id": "uWwgN-TmPyb7",
        "outputId": "0caa9799-40e6-4e42-b50f-a9de616ea491"
      },
      "source": [
        "X_con_sesgos = np.insert(X_prima, 0, 1, axis=1) # Añadimos los sesgos.\n",
        "\n",
        "theta = np.dot(np.linalg.inv(np.dot(X_con_sesgos.T, X_con_sesgos)), np.dot(X_con_sesgos.T, Y))\n",
        "\n",
        "print('Valores de θ:', theta)"
      ],
      "execution_count": 7,
      "outputs": [
        {
          "output_type": "stream",
          "name": "stdout",
          "text": [
            "Valores de θ: [[-0.30673127]\n",
            " [ 1.17670109]]\n"
          ]
        }
      ]
    },
    {
      "cell_type": "markdown",
      "metadata": {
        "id": "gHMpqeRQTkl2"
      },
      "source": [
        "### e) Calcular la expresión correspondiente en el espacio original (sustituir las $x'$ por la función que representan $f(x)$)."
      ]
    },
    {
      "cell_type": "code",
      "metadata": {
        "colab": {
          "base_uri": "https://localhost:8080/"
        },
        "id": "B2spBej_Tobw",
        "outputId": "7aa4e614-cde3-404b-e91d-5f811681bcea"
      },
      "source": [
        "nueva_x_prima = theta[0] + theta[1]*X_con_sesgos.T[1]\n",
        "print(\"Valores pasados de x':\")\n",
        "print(X_prima)\n",
        "print(\"Nuevos valores de x':\")\n",
        "print(nueva_x_prima)"
      ],
      "execution_count": 8,
      "outputs": [
        {
          "output_type": "stream",
          "name": "stdout",
          "text": [
            "Valores pasados de x':\n",
            "[[0.31622777]\n",
            " [1.02469508]\n",
            " [1.41774469]\n",
            " [1.73291662]\n",
            " [2.02731349]\n",
            " [2.23383079]\n",
            " [2.42693222]]\n",
            "Nuevos valores de x':\n",
            "[0.06537428 0.89902854 1.36153045 1.7323936  2.07881073 2.32181986\n",
            " 2.54904252]\n"
          ]
        }
      ]
    },
    {
      "cell_type": "markdown",
      "metadata": {
        "id": "ebpnsPfkbq1M"
      },
      "source": [
        "Veamos cómo son los puntos calculados con los anteriores:"
      ]
    },
    {
      "cell_type": "code",
      "metadata": {
        "colab": {
          "base_uri": "https://localhost:8080/",
          "height": 265
        },
        "id": "I3yWV1BHb0GU",
        "outputId": "412add7f-ff41-4a15-c744-265ea1a56f1d"
      },
      "source": [
        "plt.plot(X, Y, 'ro', label='Datos anteriores')\n",
        "plt.plot(X, nueva_x_prima, 'bo', label='Datos nuevos')\n",
        "plt.legend()\n",
        "plt.show()"
      ],
      "execution_count": 9,
      "outputs": [
        {
          "output_type": "display_data",
          "data": {
            "image/png": "[encoded data removed]",
            "text/plain": [
              "<Figure size 432x288 with 1 Axes>"
            ]
          },
          "metadata": {
            "needs_background": "light"
          }
        }
      ]
    },
    {
      "cell_type": "markdown",
      "metadata": {
        "id": "yYAhldCwTvMk"
      },
      "source": [
        "### f) Gráficar la función ajustada en el espació original $y$ vs $x$."
      ]
    },
    {
      "cell_type": "code",
      "metadata": {
        "colab": {
          "base_uri": "https://localhost:8080/",
          "height": 177
        },
        "id": "OpyVCnWqTxuR",
        "outputId": "c032a13a-5a50-4f09-def2-0f7fa88cd068"
      },
      "source": [
        "def f(t):\n",
        "    \"\"\"Función nueva usando los valores de theta calculados anteriormente.\"\"\"\n",
        "    return theta[0] + theta[1]*np.sqrt(t)\n",
        "\n",
        "t1 = np.arange(0.0, 6.0, 0.1)\n",
        "\n",
        "plt.figure(1)\n",
        "plt.subplot(211)\n",
        "plt.title(\"Función ajustada vs raíz\")\n",
        "plt.plot(t1, f(t1), 'k', c=colores[2], label='Función ajustada')\n",
        "plt.plot(t1, np.sqrt(t1), 'k', c=colores[1], label='Raíz cuadrada')\n",
        "plt.xlabel('$x$')\n",
        "plt.ylabel('$y$')\n",
        "plt.legend()\n",
        "plt.show()"
      ],
      "execution_count": 10,
      "outputs": [
        {
          "output_type": "display_data",
          "data": {
            "image/png": "[encoded data removed]",
            "text/plain": [
              "<Figure size 432x288 with 1 Axes>"
            ]
          },
          "metadata": {
            "needs_background": "light"
          }
        }
      ]
    },
    {
      "cell_type": "markdown",
      "metadata": {
        "id": "Elxshua4WEdt"
      },
      "source": [
        "## Ejercicio 2: Clasificación."
      ]
    },
    {
      "cell_type": "markdown",
      "metadata": {
        "id": "sYVh3mGXGfZq"
      },
      "source": [
        "2. Entrene un clasificador utilizando descenso por el gradiente para detectar la frontera entre los datos siguientes.\n",
        "\n",
        "|       x       |       y       | clasificación |\n",
        "|---------------|---------------|---------------|\n",
        "| -0.6861007046 | -2.7317977268 |     FALSO     |\n",
        "|  0.1945728382 |  0.451296404  |   VERDADERO   |\n",
        "| -2.3158346172 | -0.6509207096 |     FALSO     |\n",
        "| -1.0254515503 | -0.0809364635 |   VERDADERO   |\n",
        "|  0.4311453719 |  0.8026880194 |   VERDADERO   |\n",
        "| -3.7719061095 |  0.814367149  |     FALSO     |\n",
        "|  0.8427785188 | -1.0716033783 |   VERDADERO   |\n",
        "|  2.2864584569 | -2.9176860601 |     FALSO     |\n",
        "| -0.2791914176 | -0.8346607406 |   VERDADERO   |\n",
        "| -0.9005654622 | -2.2787579969 |     FALSO     |\n",
        "|  0.1421184987 | -1.213108765  |   VERDADERO   |\n",
        "|  3.1509795878 | -3.7415509261 |     FALSO     |\n",
        "|  0.6174679771 | -0.5790232979 |   VERDADERO   |\n",
        "|  2.0068530366 | -1.4894149248 |     FALSO     |\n",
        "|  3.5943855252 | -0.8032932784 |     FALSO     |\n",
        "\n",
        "    a) Gráficar los datos.\n",
        "    \n",
        "    b) Listar características derivadas correspondientes a todos términos de un polinomio de segundo grado y \n",
        "    calcular sus valores.\n",
        "    \n",
        "    c) Ajustar el plano en el espacio transformado. Observe que no se pide gráficarlo pues este espacio tiene \n",
        "    demaciadas dimensiones.\n",
        "    \n",
        "    d) Calcular la expresión correspondiente en el espacio original.\n",
        "    \n",
        "    e) Gráficar la curva ajustada en el espacio original."
      ]
    },
    {
      "cell_type": "code",
      "metadata": {
        "id": "nTRZC2_2V-8d"
      },
      "source": [
        "def plot_transformed(X, Y, Theta):\n",
        "    '''\n",
        "    Función auxiliar para visualizar la curva descrita por los pesos.\n",
        "    Parámetros:\n",
        "    X: Valores de entreada.\n",
        "    Y: Etiquetas de los valores.\n",
        "    Theta: Pesos actuales del entrenamiento.\n",
        "    '''\n",
        "    Theta = Theta.ravel()\n",
        "    print(\"Parámetros iniciales. Theta = \", Theta)\n",
        "    var('x y')\n",
        "    p = plot_implicit(Theta[0] + Theta[1] * x + Theta[2] * y + Theta[3] *x*y + Theta[4] * x**2 + Theta[5] * y**2, x, y,\n",
        "                      title = \"Frontera\", show=False)\n",
        "    p.show()\n",
        "    backend = p._backend\n",
        "    axes = backend.fig.get_axes()[0]\n",
        "    c = np.vectorize(lambda b: colores[b])(Y.ravel())\n",
        "    axes.scatter(X[:,0], X[:,1], color=c)\n",
        "    return backend.fig"
      ],
      "execution_count": 11,
      "outputs": []
    },
    {
      "cell_type": "markdown",
      "metadata": {
        "id": "38Ek4s_OaLbF"
      },
      "source": [
        "### a) Gráficar los datos."
      ]
    },
    {
      "cell_type": "code",
      "metadata": {
        "id": "Xwyh3X0faOI4"
      },
      "source": [
        "def cargar_datos():\n",
        "    X = np.array([[-0.6861007046, -2.7317977268],\n",
        "                      [0.1845728382, 0.451296404],\n",
        "                      [-2.3158346172, -0.6509207096],\n",
        "                      [-1.0254515503, -0.0809364635],\n",
        "                      [0.4311453719, 0.8026880194],\n",
        "                      [-3.7719061095, 0.814367149],\n",
        "                      [0.8427785188, -1.0716033783],\n",
        "                      [2.2864584569, -2.9176860601],\n",
        "                      [-0.2791914176, -0.8346607406],\n",
        "                      [-0.9005654622, -2.2787579969],\n",
        "                      [0.1421184987, -1.213108765],\n",
        "                      [3.1509795878, -3.7415509261],\n",
        "                      [0.6174679771, -0.5790232979],\n",
        "                      [2.0068530366, -1.4894149248],\n",
        "                      [3.5943855252, -0.8032932784],])\n",
        "\n",
        "    Y = np.array([[0],[1],[0],[1],[1],[0],[1],[0],[1],[0], [1], [0], [1], [0], [0]]) # 1 representa VERDADERO y 0 FALSO.\n",
        "\n",
        "    return (X, Y)\n",
        "\n",
        "X, Y = cargar_datos()"
      ],
      "execution_count": 12,
      "outputs": []
    },
    {
      "cell_type": "code",
      "metadata": {
        "colab": {
          "base_uri": "https://localhost:8080/",
          "height": 312
        },
        "id": "0FnwQdiqaio1",
        "outputId": "a9452385-810e-4f6d-f979-0a1bc5ef55cb"
      },
      "source": [
        "fig = plt.gcf()\n",
        "\n",
        "plt.title(\"Gráfica de los datos\")\n",
        "plt.xlabel(\"$x$\")\n",
        "plt.ylabel(\"$y$\")\n",
        "plt.scatter(X[:,0], X[:,1], color=np.vectorize(lambda b: colores[b])(Y.ravel()))"
      ],
      "execution_count": 13,
      "outputs": [
        {
          "output_type": "execute_result",
          "data": {
            "text/plain": [
              "<matplotlib.collections.PathCollection at 0x7f2eb63794d0>"
            ]
          },
          "metadata": {},
          "execution_count": 13
        },
        {
          "output_type": "display_data",
          "data": {
            "image/png": "[encoded data removed]",
            "text/plain": [
              "<Figure size 432x288 with 1 Axes>"
            ]
          },
          "metadata": {
            "needs_background": "light"
          }
        }
      ]
    },
    {
      "cell_type": "markdown",
      "metadata": {
        "id": "aD81bzmxbQDj"
      },
      "source": [
        "### b) Listar características derivadas correspondientes a todos términos de un polinomio de segundo grado y  calcular sus valores."
      ]
    },
    {
      "cell_type": "markdown",
      "metadata": {
        "id": "ZrPtNS0dbQP9"
      },
      "source": [
        "Sean\n",
        "\n",
        "\\begin{align}\n",
        "  x_0 &= 1 & x_1' &= x_1 & x_2' &= x_2 & x_3' &= x_1 x_2 & x_4' &= x_1^2 & x_5' &= x_2^2\n",
        "\\end{align}\n",
        "\n",
        "Así, la hipótesis se ve como\n",
        "\n",
        "\\begin{align}\n",
        " z(x_0,...,x_5) &= \\theta_0 x_0 + \\theta_1 x_1' + ... + \\theta_5 x_5' \\\\\n",
        " h_\\Theta(x_0,...,x_5) &= sigmoide(z).\n",
        "\\end{align}"
      ]
    },
    {
      "cell_type": "code",
      "metadata": {
        "id": "J4rrymIDbs7D"
      },
      "source": [
        "# Recordemos que, por el momento, X tiene solo dos columnas: x_1 y x_2.\n",
        "\n",
        "XCross = np.prod(X, axis=1, keepdims=True) # x_3 prima = (x_1)(x_2).\n",
        "XSquare = X ** 2                           # Valores de x_4 prima y x_5 prima. El elevado al cuadrado se hace por columnas, por lo que no interfiere x_1 con x_2 ni viceversa.\n",
        "\n",
        "X = np.hstack((np.ones((len(X), 1)), X)) # Agregamos los valores correspondientes a x_0.\n",
        "X = np.hstack((X, XCross, XSquare))      # Juntamos los valores de x_3 prima, x_4 prima y x_5 prima en un solo arreglo."
      ],
      "execution_count": 14,
      "outputs": []
    },
    {
      "cell_type": "markdown",
      "metadata": {
        "id": "LpJG8Fxrhkre"
      },
      "source": [
        "Por lo tanto, los valores obtenidos son:"
      ]
    },
    {
      "cell_type": "code",
      "metadata": {
        "colab": {
          "base_uri": "https://localhost:8080/"
        },
        "id": "Ke8iLDGQhpSF",
        "outputId": "2fb29f6d-4aa3-4a8d-cfa7-fa6f543c5173"
      },
      "source": [
        "print(X)"
      ],
      "execution_count": 15,
      "outputs": [
        {
          "output_type": "stream",
          "name": "stdout",
          "text": [
            "[[ 1.00000000e+00 -6.86100705e-01 -2.73179773e+00  1.87428835e+00\n",
            "   4.70734177e-01  7.46271882e+00]\n",
            " [ 1.00000000e+00  1.84572838e-01  4.51296404e-01  8.32970582e-02\n",
            "   3.40671326e-02  2.03668444e-01]\n",
            " [ 1.00000000e+00 -2.31583462e+00 -6.50920710e-01  1.50742471e+00\n",
            "   5.36308997e+00  4.23697770e-01]\n",
            " [ 1.00000000e+00 -1.02545155e+00 -8.09364635e-02  8.29964220e-02\n",
            "   1.05155088e+00  6.55071112e-03]\n",
            " [ 1.00000000e+00  4.31145372e-01  8.02688019e-01  3.46075225e-01\n",
            "   1.85886332e-01  6.44308056e-01]\n",
            " [ 1.00000000e+00 -3.77190611e+00  8.14367149e-01 -3.07171642e+00\n",
            "   1.42272757e+01  6.63193853e-01]\n",
            " [ 1.00000000e+00  8.42778519e-01 -1.07160338e+00 -9.03124308e-01\n",
            "   7.10275632e-01  1.14833380e+00]\n",
            " [ 1.00000000e+00  2.28645846e+00 -2.91768606e+00 -6.67116797e+00\n",
            "   5.22789228e+00  8.51289195e+00]\n",
            " [ 1.00000000e+00 -2.79191418e-01 -8.34660741e-01  2.33030115e-01\n",
            "   7.79478477e-02  6.96658552e-01]\n",
            " [ 1.00000000e+00 -9.00565462e-01 -2.27875800e+00  2.05217075e+00\n",
            "   8.11018152e-01  5.19273801e+00]\n",
            " [ 1.00000000e+00  1.42118499e-01 -1.21310877e+00 -1.72405196e-01\n",
            "   2.01976677e-02  1.47163288e+00]\n",
            " [ 1.00000000e+00  3.15097959e+00 -3.74155093e+00 -1.17895506e+01\n",
            "   9.92867236e+00  1.39992033e+01]\n",
            " [ 1.00000000e+00  6.17467977e-01 -5.79023298e-01 -3.57528344e-01\n",
            "   3.81266703e-01  3.35267980e-01]\n",
            " [ 1.00000000e+00  2.00685304e+00 -1.48941492e+00 -2.98903686e+00\n",
            "   4.02745911e+00  2.21835682e+00]\n",
            " [ 1.00000000e+00  3.59438553e+00 -8.03293278e-01 -2.88734573e+00\n",
            "   1.29196073e+01  6.45280091e-01]]\n"
          ]
        }
      ]
    },
    {
      "cell_type": "markdown",
      "metadata": {
        "id": "5BUn_b2pb-ku"
      },
      "source": [
        "### c) Ajustar el plano en el espacio transformado. Observe que no se pide gráficarlo pues este espacio tiene demaciadas dimensiones."
      ]
    },
    {
      "cell_type": "code",
      "metadata": {
        "colab": {
          "base_uri": "https://localhost:8080/"
        },
        "id": "xzrtyxKxdpKF",
        "outputId": "c4b832d5-7039-4ae7-9aba-ef281a88eb16"
      },
      "source": [
        "Theta = np.random.random((len(X[0]), 1)) * 4\n",
        "print('Valores para θ:', Theta)"
      ],
      "execution_count": 16,
      "outputs": [
        {
          "output_type": "stream",
          "name": "stdout",
          "text": [
            "Valores para θ: [[0.75536376]\n",
            " [0.54588653]\n",
            " [3.42236296]\n",
            " [3.112147  ]\n",
            " [1.30483326]\n",
            " [3.63025021]]\n"
          ]
        }
      ]
    },
    {
      "cell_type": "markdown",
      "metadata": {
        "id": "ZFlI1xQocNKk"
      },
      "source": [
        "### d) Calcular la expresión correspondiente en el espacio original."
      ]
    },
    {
      "cell_type": "markdown",
      "metadata": {
        "id": "M88tFdnjXM5Y"
      },
      "source": [
        "Para esto usaremos el descenso del gradiente considerando a $\\alpha = 0.15$:"
      ]
    },
    {
      "cell_type": "code",
      "metadata": {
        "id": "NJlvFOrGdnsz"
      },
      "source": [
        "def sigmoide(M):\n",
        "    \"\"\"\n",
        "    Función sigmoide.\n",
        "    Parámetros:\n",
        "    M: Valores de entreada.\n",
        "    \"\"\"\n",
        "    return 1 / (1 + np.exp(-M))\n",
        "\n",
        "def descenso(X, Y, Theta, iteraciones):\n",
        "    \"\"\"\n",
        "    Realiza descenso por el gradiente sobre los datos en X, con respuestas esperadas Y.\n",
        "    Parámetros:\n",
        "    iteraciones: Número de iteraciones que se van a usar para el descenso por gradiente.\n",
        "    \"\"\"\n",
        "    figsize(4, 3)\n",
        "    errores = np.zeros(iteraciones)\n",
        "    m = len(X)\n",
        "    alpha = 0.15\n",
        "  \n",
        "    for i in range(0, iteraciones):\n",
        "        H          = sigmoide(np.dot(X, Theta))\n",
        "        errores[i] = (np.sum(Y * np.log(H) + (1 - Y) * np.log(1 - H))) / -m\n",
        "        gradiente  = np.dot(X.T, H-Y) / 6\n",
        "        Theta      = Theta -  (alpha*gradiente)\n",
        "\n",
        "    # Imprimimos cómo se fue comportando el error.\n",
        "    plt.title(\"Función coste\")\n",
        "    plt.xlabel(\"Número de iteraciones\")\n",
        "    plt.ylabel(\"Error\")\n",
        "    plt.plot(np.arange(iteraciones), errores)\n",
        "\n",
        "    return Theta"
      ],
      "execution_count": 17,
      "outputs": []
    },
    {
      "cell_type": "markdown",
      "metadata": {
        "id": "fAi7FCLqbMO6"
      },
      "source": [
        "Así, ejecutemos el algoritmo para obtener los valores de theta:"
      ]
    },
    {
      "cell_type": "code",
      "metadata": {
        "colab": {
          "base_uri": "https://localhost:8080/",
          "height": 241
        },
        "id": "_u1ny95vY76P",
        "outputId": "7fb74d8f-33a7-4744-c9f6-76c2b0be8b29"
      },
      "source": [
        "Theta = descenso(X, Y, Theta, 100)"
      ],
      "execution_count": 18,
      "outputs": [
        {
          "output_type": "display_data",
          "data": {
            "image/png": "[encoded data removed]",
            "text/plain": [
              "<Figure size 288x216 with 1 Axes>"
            ]
          },
          "metadata": {
            "needs_background": "light"
          }
        }
      ]
    },
    {
      "cell_type": "markdown",
      "metadata": {
        "id": "ZKd0Ei_bcPTe"
      },
      "source": [
        "### e) Gráficar la curva ajustada en el espacio original."
      ]
    },
    {
      "cell_type": "code",
      "metadata": {
        "colab": {
          "base_uri": "https://localhost:8080/",
          "height": 450
        },
        "id": "vCcfi9XfdtLb",
        "outputId": "a3bae23f-337a-4bcd-d59d-74e95b3ec5e3"
      },
      "source": [
        "X, Y = cargar_datos()\n",
        "\n",
        "plot_transformed(X, Y, Theta)"
      ],
      "execution_count": 19,
      "outputs": [
        {
          "output_type": "stream",
          "name": "stdout",
          "text": [
            "Parámetros iniciales. Theta =  [ 4.26237538  1.58217533  2.56217613  0.71024744 -0.90588786 -0.04398471]\n"
          ]
        },
        {
          "output_type": "display_data",
          "data": {
            "image/png": "[encoded data removed]",
            "text/plain": [
              "<Figure size 288x216 with 1 Axes>"
            ]
          },
          "metadata": {
            "needs_background": "light"
          }
        },
        {
          "output_type": "execute_result",
          "data": {
            "image/png": "[encoded data removed]",
            "text/plain": [
              "<Figure size 288x216 with 1 Axes>"
            ]
          },
          "metadata": {},
          "execution_count": 19
        }
      ]
    }
  ]
}